{
 "cells": [
  {
   "cell_type": "code",
   "execution_count": 1,
   "metadata": {},
   "outputs": [],
   "source": [
    "# https://scipython.com/book/chapter-8-scipy/problems/p84/overlapping-circles/\n",
    "import numpy as np\n",
    "from scipy.optimize import brentq\n",
    "def intersection_area(d,R,r):\n",
    "    \"\"\"Return the area of intersection of two circles.\n",
    "    The circles have radii R and r, and their centres are separated by d.\n",
    "    \"\"\"\n",
    "    d, R, r = float(d), float(R), float(r)\n",
    "    if d <= abs(R-r):\n",
    "        # One circle is entirely enclosed in the other.\n",
    "        return np.pi * min(R, r)**2\n",
    "    if d >= r + R:\n",
    "        # The circles don't overlap at all.\n",
    "        return 0\n",
    "    r2, R2, d2 = r**2, R**2, d**2\n",
    "    alpha = np.arccos((d2 + r2 - R2) / (2*d*r))\n",
    "    beta = np.arccos((d2 + R2 - r2) / (2*d*R))\n",
    "    return (r2 * alpha + R2 * beta - 0.5 * (r2 * np.sin(2*alpha) + R2 * np.sin(2*beta)))\n",
    "def find_d(A,R,r):\n",
    "    \"\"\"\n",
    "    Find the distance between the centres of two circles giving overlap area A.\n",
    "    \"\"\"\n",
    "    # A cannot be larger than the area of the smallest circle!\n",
    "    A = float(A)\n",
    "    if A > np.pi * min(r, R)**2:\n",
    "        raise ValueError(\"Intersection area can't be larger than the area of the smallest circle\")\n",
    "    if A == 0:\n",
    "        # If the circles don't overlap, place them next to each other\n",
    "        return R+r\n",
    "    if A < 0:\n",
    "        raise ValueError('Negative intersection area')\n",
    "    def f(d, A, R, r):\n",
    "        return intersection_area(d, R, r) - A\n",
    "    a, b = abs(R-r), R+r\n",
    "    d = brentq(f, a, b, args=(A, R, r))\n",
    "    return d"
   ]
  },
  {
   "cell_type": "code",
   "execution_count": null,
   "metadata": {},
   "outputs": [],
   "source": []
  }
 ],
 "metadata": {
  "kernelspec": {
   "display_name": "Python 3 (ipykernel)",
   "language": "python",
   "name": "python3"
  },
  "language_info": {
   "codemirror_mode": {
    "name": "ipython",
    "version": 3
   },
   "file_extension": ".py",
   "mimetype": "text/x-python",
   "name": "python",
   "nbconvert_exporter": "python",
   "pygments_lexer": "ipython3",
   "version": "3.9.4"
  }
 },
 "nbformat": 4,
 "nbformat_minor": 4
}
