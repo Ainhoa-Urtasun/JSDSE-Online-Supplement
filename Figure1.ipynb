{
 "cells": [
  {
   "cell_type": "code",
   "execution_count": 1,
   "metadata": {},
   "outputs": [],
   "source": [
    "import pandas\n",
    "import numpy\n",
    "import re\n",
    "import nltk\n",
    "from nltk.tokenize import word_tokenize\n",
    "from nltk.corpus import stopwords\n",
    "stop_words = set(stopwords.words('english'))\n",
    "import matplotlib.pyplot as plt\n",
    "import matplotlib.patches as patches\n",
    "plt.style.use('seaborn-white')"
   ]
  },
  {
   "cell_type": "markdown",
   "metadata": {},
   "source": [
    "## Counting skills"
   ]
  },
  {
   "cell_type": "code",
   "execution_count": 3,
   "metadata": {},
   "outputs": [
    {
     "data": {
      "text/html": [
       "<div>\n",
       "<style scoped>\n",
       "    .dataframe tbody tr th:only-of-type {\n",
       "        vertical-align: middle;\n",
       "    }\n",
       "\n",
       "    .dataframe tbody tr th {\n",
       "        vertical-align: top;\n",
       "    }\n",
       "\n",
       "    .dataframe thead th {\n",
       "        text-align: right;\n",
       "    }\n",
       "</style>\n",
       "<table border=\"1\" class=\"dataframe\">\n",
       "  <thead>\n",
       "    <tr style=\"text-align: right;\">\n",
       "      <th></th>\n",
       "      <th>Data Scientist</th>\n",
       "      <th>Human Resource Specialist</th>\n",
       "      <th>Fraction</th>\n",
       "    </tr>\n",
       "  </thead>\n",
       "  <tbody>\n",
       "    <tr>\n",
       "      <th>Entry-Level</th>\n",
       "      <td>0.000107</td>\n",
       "      <td>0.000019</td>\n",
       "      <td>0.175124</td>\n",
       "    </tr>\n",
       "    <tr>\n",
       "      <th>Mid-Level</th>\n",
       "      <td>0.000133</td>\n",
       "      <td>0.000036</td>\n",
       "      <td>0.269594</td>\n",
       "    </tr>\n",
       "    <tr>\n",
       "      <th>Senior-Level</th>\n",
       "      <td>0.000135</td>\n",
       "      <td>0.000029</td>\n",
       "      <td>0.214309</td>\n",
       "    </tr>\n",
       "  </tbody>\n",
       "</table>\n",
       "</div>"
      ],
      "text/plain": [
       "              Data Scientist  Human Resource Specialist  Fraction\n",
       "Entry-Level         0.000107                   0.000019  0.175124\n",
       "Mid-Level           0.000133                   0.000036  0.269594\n",
       "Senior-Level        0.000135                   0.000029  0.214309"
      ]
     },
     "execution_count": 3,
     "metadata": {},
     "output_type": "execute_result"
    }
   ],
   "source": [
    "n = 100\n",
    "C = []\n",
    "mydata = ['DSentry.txt','DSmid.txt','DSsenior.txt','HRSentry.txt','HRSmid.txt','HRSsenior.txt']\n",
    "mylabel = [('Entry-Level','Data Scientist'),('Mid-Level','Data Scientist'),('Senior-Level','Data Scientist'),('Entry-Level','Human Resource Specialist'),('Mid-Level','Human Resource Specialist'),('Senior-Level','Human Resource Specialist')]\n",
    "for file,label in zip(mydata,mylabel):\n",
    "  c = 0\n",
    "  m = 0\n",
    "  for i in range(n):\n",
    "    mydata = pandas.read_csv(file,sep='\\t')\n",
    "    mydata = mydata.sample(50,replace=False)\n",
    "    mydata.description = mydata.description.str.lower() \n",
    "    mydata.description = mydata.description.str.replace(r'\\b[a-z]\\b|\\b[0-9]+\\b','',regex=True)\n",
    "    mydata.description = mydata.description.str.replace(r'/',' ',regex=True)\n",
    "    mydata.description = mydata.description.str.replace(r'.','',regex=True)\n",
    "    mydata.description = mydata.description.str.replace(r'http\\S+','',regex=True)\n",
    "    description = mydata.description.to_list()\n",
    "    description = ','.join(description)\n",
    "    description = word_tokenize(description)\n",
    "    description = [word for word in description if not word in stop_words]\n",
    "    description = [word for word in description if not word in [',','@','!','?','.','–',':','#','’','(',')','%','--','-', \"'\",'&','$','\\n']]\n",
    "    description = [nltk.stem.LancasterStemmer().stem(word) for word in description]\n",
    "    m = m + len(description)\n",
    "    for word in description:\n",
    "      c = c + word.count('analy')\n",
    "  C.append([label,(c/m)/n])\n",
    "mydf = pandas.DataFrame(C,columns=['index','count'])\n",
    "mydf = mydf.set_index('index')\n",
    "mydf.index = pandas.MultiIndex.from_tuples(mydf.index)\n",
    "mydf = mydf.unstack(level=1)\n",
    "mydf = mydf.droplevel(0,axis=1)\n",
    "mydf['Fraction'] = mydf['Human Resource Specialist']/mydf['Data Scientist']\n",
    "mydf"
   ]
  },
  {
   "cell_type": "code",
   "execution_count": 4,
   "metadata": {},
   "outputs": [
    {
     "data": {
      "image/png": "[encoded data removed]",
      "text/plain": [
       "<Figure size 240.48x240.48 with 1 Axes>"
      ]
     },
     "metadata": {},
     "output_type": "display_data"
    }
   ],
   "source": [
    "plt.rc(\"font\",family=\"Times New Roman\",size=10) \n",
    "barwidth = 1\n",
    "fig = plt.figure(figsize=(3.34,3.34))\n",
    "plt.bar(1,mydf.loc['Entry-Level','Fraction'],barwidth,align='center',color='blue')\n",
    "plt.bar(3,mydf.loc['Mid-Level','Fraction'],barwidth,align='center',color='green')\n",
    "plt.bar(5,mydf.loc['Senior-Level','Fraction'],barwidth,align='center',color='red')\n",
    "plt.grid(axis='y',color='b',linestyle='--',linewidth=0.5,alpha=0.5)\n",
    "plt.xticks([1,3,5],mydf.index)\n",
    "plt.box(False)\n",
    "plt.show()\n",
    "fig.savefig('Bars.png',dpi=300)"
   ]
  },
  {
   "cell_type": "code",
   "execution_count": null,
   "metadata": {},
   "outputs": [],
   "source": []
  }
 ],
 "metadata": {
  "kernelspec": {
   "display_name": "Python 3 (ipykernel)",
   "language": "python",
   "name": "python3"
  },
  "language_info": {
   "codemirror_mode": {
    "name": "ipython",
    "version": 3
   },
   "file_extension": ".py",
   "mimetype": "text/x-python",
   "name": "python",
   "nbconvert_exporter": "python",
   "pygments_lexer": "ipython3",
   "version": "3.9.4"
  }
 },
 "nbformat": 4,
 "nbformat_minor": 4
}
